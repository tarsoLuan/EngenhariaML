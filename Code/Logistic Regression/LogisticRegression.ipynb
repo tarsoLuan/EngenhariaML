{
 "cells": [
  {
   "cell_type": "code",
   "execution_count": 1,
   "metadata": {},
   "outputs": [],
   "source": [
    "import pandas as pd\n",
    "import pycaret.classification as pc\n",
    "import mlflow\n",
    "import mlflow.sklearn\n",
    "from mlflow.models.signature import infer_signature\n",
    "from mlflow.tracking import MlflowClient\n",
    "from sklearn.metrics import log_loss, f1_score\n",
    "import numpy as np\n",
    "\n",
    "from sklearn import linear_model, preprocessing, metrics, model_selection"
   ]
  },
  {
   "cell_type": "code",
   "execution_count": 2,
   "metadata": {},
   "outputs": [],
   "source": [
    "mlflow.set_tracking_uri(\"sqlite:///mlruns/mlruns.db\")\n",
    "\n",
    "experiment_name = 'Logistic Regression'\n",
    "experiment = mlflow.get_experiment_by_name(experiment_name)\n",
    "if experiment is None:\n",
    "    experiment_id = mlflow.create_experiment(experiment_name)\n",
    "    experiment = mlflow.get_experiment(experiment_id)\n",
    "experiment_id = experiment.experiment_id"
   ]
  },
  {
   "cell_type": "code",
   "execution_count": 3,
   "metadata": {},
   "outputs": [],
   "source": [
    "registered_model_name = 'modelo_kobe_lr'\n",
    "min_precision = 0.4\n",
    "model_version = -1 # recuperar a ultima versao\n",
    "nexamples = 4\n",
    "\n",
    "kobe_target_col = 'shot_made_flag'\n"
   ]
  },
  {
   "cell_type": "code",
   "execution_count": 4,
   "metadata": {},
   "outputs": [
    {
     "data": {
      "text/html": [
       "<style type=\"text/css\">\n",
       "#T_6b590_row8_col1 {\n",
       "  background-color: lightgreen;\n",
       "}\n",
       "</style>\n",
       "<table id=\"T_6b590\">\n",
       "  <thead>\n",
       "    <tr>\n",
       "      <th class=\"blank level0\" >&nbsp;</th>\n",
       "      <th id=\"T_6b590_level0_col0\" class=\"col_heading level0 col0\" >Description</th>\n",
       "      <th id=\"T_6b590_level0_col1\" class=\"col_heading level0 col1\" >Value</th>\n",
       "    </tr>\n",
       "  </thead>\n",
       "  <tbody>\n",
       "    <tr>\n",
       "      <th id=\"T_6b590_level0_row0\" class=\"row_heading level0 row0\" >0</th>\n",
       "      <td id=\"T_6b590_row0_col0\" class=\"data row0 col0\" >Session id</td>\n",
       "      <td id=\"T_6b590_row0_col1\" class=\"data row0 col1\" >3930</td>\n",
       "    </tr>\n",
       "    <tr>\n",
       "      <th id=\"T_6b590_level0_row1\" class=\"row_heading level0 row1\" >1</th>\n",
       "      <td id=\"T_6b590_row1_col0\" class=\"data row1 col0\" >Target</td>\n",
       "      <td id=\"T_6b590_row1_col1\" class=\"data row1 col1\" >shot_made_flag</td>\n",
       "    </tr>\n",
       "    <tr>\n",
       "      <th id=\"T_6b590_level0_row2\" class=\"row_heading level0 row2\" >2</th>\n",
       "      <td id=\"T_6b590_row2_col0\" class=\"data row2 col0\" >Target type</td>\n",
       "      <td id=\"T_6b590_row2_col1\" class=\"data row2 col1\" >Binary</td>\n",
       "    </tr>\n",
       "    <tr>\n",
       "      <th id=\"T_6b590_level0_row3\" class=\"row_heading level0 row3\" >3</th>\n",
       "      <td id=\"T_6b590_row3_col0\" class=\"data row3 col0\" >Original data shape</td>\n",
       "      <td id=\"T_6b590_row3_col1\" class=\"data row3 col1\" >(5140, 7)</td>\n",
       "    </tr>\n",
       "    <tr>\n",
       "      <th id=\"T_6b590_level0_row4\" class=\"row_heading level0 row4\" >4</th>\n",
       "      <td id=\"T_6b590_row4_col0\" class=\"data row4 col0\" >Transformed data shape</td>\n",
       "      <td id=\"T_6b590_row4_col1\" class=\"data row4 col1\" >(5140, 7)</td>\n",
       "    </tr>\n",
       "    <tr>\n",
       "      <th id=\"T_6b590_level0_row5\" class=\"row_heading level0 row5\" >5</th>\n",
       "      <td id=\"T_6b590_row5_col0\" class=\"data row5 col0\" >Transformed train set shape</td>\n",
       "      <td id=\"T_6b590_row5_col1\" class=\"data row5 col1\" >(3597, 7)</td>\n",
       "    </tr>\n",
       "    <tr>\n",
       "      <th id=\"T_6b590_level0_row6\" class=\"row_heading level0 row6\" >6</th>\n",
       "      <td id=\"T_6b590_row6_col0\" class=\"data row6 col0\" >Transformed test set shape</td>\n",
       "      <td id=\"T_6b590_row6_col1\" class=\"data row6 col1\" >(1543, 7)</td>\n",
       "    </tr>\n",
       "    <tr>\n",
       "      <th id=\"T_6b590_level0_row7\" class=\"row_heading level0 row7\" >7</th>\n",
       "      <td id=\"T_6b590_row7_col0\" class=\"data row7 col0\" >Numeric features</td>\n",
       "      <td id=\"T_6b590_row7_col1\" class=\"data row7 col1\" >6</td>\n",
       "    </tr>\n",
       "    <tr>\n",
       "      <th id=\"T_6b590_level0_row8\" class=\"row_heading level0 row8\" >8</th>\n",
       "      <td id=\"T_6b590_row8_col0\" class=\"data row8 col0\" >Preprocess</td>\n",
       "      <td id=\"T_6b590_row8_col1\" class=\"data row8 col1\" >True</td>\n",
       "    </tr>\n",
       "    <tr>\n",
       "      <th id=\"T_6b590_level0_row9\" class=\"row_heading level0 row9\" >9</th>\n",
       "      <td id=\"T_6b590_row9_col0\" class=\"data row9 col0\" >Imputation type</td>\n",
       "      <td id=\"T_6b590_row9_col1\" class=\"data row9 col1\" >simple</td>\n",
       "    </tr>\n",
       "    <tr>\n",
       "      <th id=\"T_6b590_level0_row10\" class=\"row_heading level0 row10\" >10</th>\n",
       "      <td id=\"T_6b590_row10_col0\" class=\"data row10 col0\" >Numeric imputation</td>\n",
       "      <td id=\"T_6b590_row10_col1\" class=\"data row10 col1\" >mean</td>\n",
       "    </tr>\n",
       "    <tr>\n",
       "      <th id=\"T_6b590_level0_row11\" class=\"row_heading level0 row11\" >11</th>\n",
       "      <td id=\"T_6b590_row11_col0\" class=\"data row11 col0\" >Categorical imputation</td>\n",
       "      <td id=\"T_6b590_row11_col1\" class=\"data row11 col1\" >mode</td>\n",
       "    </tr>\n",
       "    <tr>\n",
       "      <th id=\"T_6b590_level0_row12\" class=\"row_heading level0 row12\" >12</th>\n",
       "      <td id=\"T_6b590_row12_col0\" class=\"data row12 col0\" >Fold Generator</td>\n",
       "      <td id=\"T_6b590_row12_col1\" class=\"data row12 col1\" >StratifiedKFold</td>\n",
       "    </tr>\n",
       "    <tr>\n",
       "      <th id=\"T_6b590_level0_row13\" class=\"row_heading level0 row13\" >13</th>\n",
       "      <td id=\"T_6b590_row13_col0\" class=\"data row13 col0\" >Fold Number</td>\n",
       "      <td id=\"T_6b590_row13_col1\" class=\"data row13 col1\" >10</td>\n",
       "    </tr>\n",
       "    <tr>\n",
       "      <th id=\"T_6b590_level0_row14\" class=\"row_heading level0 row14\" >14</th>\n",
       "      <td id=\"T_6b590_row14_col0\" class=\"data row14 col0\" >CPU Jobs</td>\n",
       "      <td id=\"T_6b590_row14_col1\" class=\"data row14 col1\" >-1</td>\n",
       "    </tr>\n",
       "    <tr>\n",
       "      <th id=\"T_6b590_level0_row15\" class=\"row_heading level0 row15\" >15</th>\n",
       "      <td id=\"T_6b590_row15_col0\" class=\"data row15 col0\" >Use GPU</td>\n",
       "      <td id=\"T_6b590_row15_col1\" class=\"data row15 col1\" >False</td>\n",
       "    </tr>\n",
       "    <tr>\n",
       "      <th id=\"T_6b590_level0_row16\" class=\"row_heading level0 row16\" >16</th>\n",
       "      <td id=\"T_6b590_row16_col0\" class=\"data row16 col0\" >Log Experiment</td>\n",
       "      <td id=\"T_6b590_row16_col1\" class=\"data row16 col1\" >MlflowLogger</td>\n",
       "    </tr>\n",
       "    <tr>\n",
       "      <th id=\"T_6b590_level0_row17\" class=\"row_heading level0 row17\" >17</th>\n",
       "      <td id=\"T_6b590_row17_col0\" class=\"data row17 col0\" >Experiment Name</td>\n",
       "      <td id=\"T_6b590_row17_col1\" class=\"data row17 col1\" >Logistic Regression</td>\n",
       "    </tr>\n",
       "    <tr>\n",
       "      <th id=\"T_6b590_level0_row18\" class=\"row_heading level0 row18\" >18</th>\n",
       "      <td id=\"T_6b590_row18_col0\" class=\"data row18 col0\" >USI</td>\n",
       "      <td id=\"T_6b590_row18_col1\" class=\"data row18 col1\" >c3f7</td>\n",
       "    </tr>\n",
       "  </tbody>\n",
       "</table>\n"
      ],
      "text/plain": [
       "<pandas.io.formats.style.Styler at 0x18c3bd29690>"
      ]
     },
     "metadata": {},
     "output_type": "display_data"
    },
    {
     "data": {
      "text/html": [],
      "text/plain": [
       "<IPython.core.display.HTML object>"
      ]
     },
     "metadata": {},
     "output_type": "display_data"
    },
    {
     "data": {
      "text/html": [
       "<style type=\"text/css\">\n",
       "#T_3d55c_row10_col0, #T_3d55c_row10_col1, #T_3d55c_row10_col2, #T_3d55c_row10_col3, #T_3d55c_row10_col4, #T_3d55c_row10_col5, #T_3d55c_row10_col6 {\n",
       "  background: yellow;\n",
       "}\n",
       "</style>\n",
       "<table id=\"T_3d55c\">\n",
       "  <thead>\n",
       "    <tr>\n",
       "      <th class=\"blank level0\" >&nbsp;</th>\n",
       "      <th id=\"T_3d55c_level0_col0\" class=\"col_heading level0 col0\" >Accuracy</th>\n",
       "      <th id=\"T_3d55c_level0_col1\" class=\"col_heading level0 col1\" >AUC</th>\n",
       "      <th id=\"T_3d55c_level0_col2\" class=\"col_heading level0 col2\" >Recall</th>\n",
       "      <th id=\"T_3d55c_level0_col3\" class=\"col_heading level0 col3\" >Prec.</th>\n",
       "      <th id=\"T_3d55c_level0_col4\" class=\"col_heading level0 col4\" >F1</th>\n",
       "      <th id=\"T_3d55c_level0_col5\" class=\"col_heading level0 col5\" >Kappa</th>\n",
       "      <th id=\"T_3d55c_level0_col6\" class=\"col_heading level0 col6\" >MCC</th>\n",
       "    </tr>\n",
       "    <tr>\n",
       "      <th class=\"index_name level0\" >Fold</th>\n",
       "      <th class=\"blank col0\" >&nbsp;</th>\n",
       "      <th class=\"blank col1\" >&nbsp;</th>\n",
       "      <th class=\"blank col2\" >&nbsp;</th>\n",
       "      <th class=\"blank col3\" >&nbsp;</th>\n",
       "      <th class=\"blank col4\" >&nbsp;</th>\n",
       "      <th class=\"blank col5\" >&nbsp;</th>\n",
       "      <th class=\"blank col6\" >&nbsp;</th>\n",
       "    </tr>\n",
       "  </thead>\n",
       "  <tbody>\n",
       "    <tr>\n",
       "      <th id=\"T_3d55c_level0_row0\" class=\"row_heading level0 row0\" >0</th>\n",
       "      <td id=\"T_3d55c_row0_col0\" class=\"data row0 col0\" >0.6111</td>\n",
       "      <td id=\"T_3d55c_row0_col1\" class=\"data row0 col1\" >0.6204</td>\n",
       "      <td id=\"T_3d55c_row0_col2\" class=\"data row0 col2\" >0.4691</td>\n",
       "      <td id=\"T_3d55c_row0_col3\" class=\"data row0 col3\" >0.5846</td>\n",
       "      <td id=\"T_3d55c_row0_col4\" class=\"data row0 col4\" >0.5205</td>\n",
       "      <td id=\"T_3d55c_row0_col5\" class=\"data row0 col5\" >0.2000</td>\n",
       "      <td id=\"T_3d55c_row0_col6\" class=\"data row0 col6\" >0.2034</td>\n",
       "    </tr>\n",
       "    <tr>\n",
       "      <th id=\"T_3d55c_level0_row1\" class=\"row_heading level0 row1\" >1</th>\n",
       "      <td id=\"T_3d55c_row1_col0\" class=\"data row1 col0\" >0.5556</td>\n",
       "      <td id=\"T_3d55c_row1_col1\" class=\"data row1 col1\" >0.6131</td>\n",
       "      <td id=\"T_3d55c_row1_col2\" class=\"data row1 col2\" >0.3519</td>\n",
       "      <td id=\"T_3d55c_row1_col3\" class=\"data row1 col3\" >0.5089</td>\n",
       "      <td id=\"T_3d55c_row1_col4\" class=\"data row1 col4\" >0.4161</td>\n",
       "      <td id=\"T_3d55c_row1_col5\" class=\"data row1 col5\" >0.0762</td>\n",
       "      <td id=\"T_3d55c_row1_col6\" class=\"data row1 col6\" >0.0796</td>\n",
       "    </tr>\n",
       "    <tr>\n",
       "      <th id=\"T_3d55c_level0_row2\" class=\"row_heading level0 row2\" >2</th>\n",
       "      <td id=\"T_3d55c_row2_col0\" class=\"data row2 col0\" >0.6306</td>\n",
       "      <td id=\"T_3d55c_row2_col1\" class=\"data row2 col1\" >0.6239</td>\n",
       "      <td id=\"T_3d55c_row2_col2\" class=\"data row2 col2\" >0.4410</td>\n",
       "      <td id=\"T_3d55c_row2_col3\" class=\"data row2 col3\" >0.6228</td>\n",
       "      <td id=\"T_3d55c_row2_col4\" class=\"data row2 col4\" >0.5164</td>\n",
       "      <td id=\"T_3d55c_row2_col5\" class=\"data row2 col5\" >0.2314</td>\n",
       "      <td id=\"T_3d55c_row2_col6\" class=\"data row2 col6\" >0.2404</td>\n",
       "    </tr>\n",
       "    <tr>\n",
       "      <th id=\"T_3d55c_level0_row3\" class=\"row_heading level0 row3\" >3</th>\n",
       "      <td id=\"T_3d55c_row3_col0\" class=\"data row3 col0\" >0.6583</td>\n",
       "      <td id=\"T_3d55c_row3_col1\" class=\"data row3 col1\" >0.6737</td>\n",
       "      <td id=\"T_3d55c_row3_col2\" class=\"data row3 col2\" >0.4783</td>\n",
       "      <td id=\"T_3d55c_row3_col3\" class=\"data row3 col3\" >0.6638</td>\n",
       "      <td id=\"T_3d55c_row3_col4\" class=\"data row3 col4\" >0.5560</td>\n",
       "      <td id=\"T_3d55c_row3_col5\" class=\"data row3 col5\" >0.2900</td>\n",
       "      <td id=\"T_3d55c_row3_col6\" class=\"data row3 col6\" >0.3003</td>\n",
       "    </tr>\n",
       "    <tr>\n",
       "      <th id=\"T_3d55c_level0_row4\" class=\"row_heading level0 row4\" >4</th>\n",
       "      <td id=\"T_3d55c_row4_col0\" class=\"data row4 col0\" >0.6250</td>\n",
       "      <td id=\"T_3d55c_row4_col1\" class=\"data row4 col1\" >0.6610</td>\n",
       "      <td id=\"T_3d55c_row4_col2\" class=\"data row4 col2\" >0.4534</td>\n",
       "      <td id=\"T_3d55c_row4_col3\" class=\"data row4 col3\" >0.6083</td>\n",
       "      <td id=\"T_3d55c_row4_col4\" class=\"data row4 col4\" >0.5196</td>\n",
       "      <td id=\"T_3d55c_row4_col5\" class=\"data row4 col5\" >0.2226</td>\n",
       "      <td id=\"T_3d55c_row4_col6\" class=\"data row4 col6\" >0.2291</td>\n",
       "    </tr>\n",
       "    <tr>\n",
       "      <th id=\"T_3d55c_level0_row5\" class=\"row_heading level0 row5\" >5</th>\n",
       "      <td id=\"T_3d55c_row5_col0\" class=\"data row5 col0\" >0.5583</td>\n",
       "      <td id=\"T_3d55c_row5_col1\" class=\"data row5 col1\" >0.5403</td>\n",
       "      <td id=\"T_3d55c_row5_col2\" class=\"data row5 col2\" >0.3913</td>\n",
       "      <td id=\"T_3d55c_row5_col3\" class=\"data row5 col3\" >0.5081</td>\n",
       "      <td id=\"T_3d55c_row5_col4\" class=\"data row5 col4\" >0.4421</td>\n",
       "      <td id=\"T_3d55c_row5_col5\" class=\"data row5 col5\" >0.0867</td>\n",
       "      <td id=\"T_3d55c_row5_col6\" class=\"data row5 col6\" >0.0887</td>\n",
       "    </tr>\n",
       "    <tr>\n",
       "      <th id=\"T_3d55c_level0_row6\" class=\"row_heading level0 row6\" >6</th>\n",
       "      <td id=\"T_3d55c_row6_col0\" class=\"data row6 col0\" >0.5972</td>\n",
       "      <td id=\"T_3d55c_row6_col1\" class=\"data row6 col1\" >0.6170</td>\n",
       "      <td id=\"T_3d55c_row6_col2\" class=\"data row6 col2\" >0.3975</td>\n",
       "      <td id=\"T_3d55c_row6_col3\" class=\"data row6 col3\" >0.5714</td>\n",
       "      <td id=\"T_3d55c_row6_col4\" class=\"data row6 col4\" >0.4689</td>\n",
       "      <td id=\"T_3d55c_row6_col5\" class=\"data row6 col5\" >0.1610</td>\n",
       "      <td id=\"T_3d55c_row6_col6\" class=\"data row6 col6\" >0.1679</td>\n",
       "    </tr>\n",
       "    <tr>\n",
       "      <th id=\"T_3d55c_level0_row7\" class=\"row_heading level0 row7\" >7</th>\n",
       "      <td id=\"T_3d55c_row7_col0\" class=\"data row7 col0\" >0.5933</td>\n",
       "      <td id=\"T_3d55c_row7_col1\" class=\"data row7 col1\" >0.6373</td>\n",
       "      <td id=\"T_3d55c_row7_col2\" class=\"data row7 col2\" >0.4224</td>\n",
       "      <td id=\"T_3d55c_row7_col3\" class=\"data row7 col3\" >0.5620</td>\n",
       "      <td id=\"T_3d55c_row7_col4\" class=\"data row7 col4\" >0.4823</td>\n",
       "      <td id=\"T_3d55c_row7_col5\" class=\"data row7 col5\" >0.1584</td>\n",
       "      <td id=\"T_3d55c_row7_col6\" class=\"data row7 col6\" >0.1627</td>\n",
       "    </tr>\n",
       "    <tr>\n",
       "      <th id=\"T_3d55c_level0_row8\" class=\"row_heading level0 row8\" >8</th>\n",
       "      <td id=\"T_3d55c_row8_col0\" class=\"data row8 col0\" >0.6267</td>\n",
       "      <td id=\"T_3d55c_row8_col1\" class=\"data row8 col1\" >0.6452</td>\n",
       "      <td id=\"T_3d55c_row8_col2\" class=\"data row8 col2\" >0.5093</td>\n",
       "      <td id=\"T_3d55c_row8_col3\" class=\"data row8 col3\" >0.5985</td>\n",
       "      <td id=\"T_3d55c_row8_col4\" class=\"data row8 col4\" >0.5503</td>\n",
       "      <td id=\"T_3d55c_row8_col5\" class=\"data row8 col5\" >0.2348</td>\n",
       "      <td id=\"T_3d55c_row8_col6\" class=\"data row8 col6\" >0.2370</td>\n",
       "    </tr>\n",
       "    <tr>\n",
       "      <th id=\"T_3d55c_level0_row9\" class=\"row_heading level0 row9\" >9</th>\n",
       "      <td id=\"T_3d55c_row9_col0\" class=\"data row9 col0\" >0.5682</td>\n",
       "      <td id=\"T_3d55c_row9_col1\" class=\"data row9 col1\" >0.5999</td>\n",
       "      <td id=\"T_3d55c_row9_col2\" class=\"data row9 col2\" >0.4224</td>\n",
       "      <td id=\"T_3d55c_row9_col3\" class=\"data row9 col3\" >0.5231</td>\n",
       "      <td id=\"T_3d55c_row9_col4\" class=\"data row9 col4\" >0.4674</td>\n",
       "      <td id=\"T_3d55c_row9_col5\" class=\"data row9 col5\" >0.1112</td>\n",
       "      <td id=\"T_3d55c_row9_col6\" class=\"data row9 col6\" >0.1130</td>\n",
       "    </tr>\n",
       "    <tr>\n",
       "      <th id=\"T_3d55c_level0_row10\" class=\"row_heading level0 row10\" >Mean</th>\n",
       "      <td id=\"T_3d55c_row10_col0\" class=\"data row10 col0\" >0.6024</td>\n",
       "      <td id=\"T_3d55c_row10_col1\" class=\"data row10 col1\" >0.6232</td>\n",
       "      <td id=\"T_3d55c_row10_col2\" class=\"data row10 col2\" >0.4337</td>\n",
       "      <td id=\"T_3d55c_row10_col3\" class=\"data row10 col3\" >0.5752</td>\n",
       "      <td id=\"T_3d55c_row10_col4\" class=\"data row10 col4\" >0.4939</td>\n",
       "      <td id=\"T_3d55c_row10_col5\" class=\"data row10 col5\" >0.1772</td>\n",
       "      <td id=\"T_3d55c_row10_col6\" class=\"data row10 col6\" >0.1822</td>\n",
       "    </tr>\n",
       "    <tr>\n",
       "      <th id=\"T_3d55c_level0_row11\" class=\"row_heading level0 row11\" >Std</th>\n",
       "      <td id=\"T_3d55c_row11_col0\" class=\"data row11 col0\" >0.0324</td>\n",
       "      <td id=\"T_3d55c_row11_col1\" class=\"data row11 col1\" >0.0350</td>\n",
       "      <td id=\"T_3d55c_row11_col2\" class=\"data row11 col2\" >0.0441</td>\n",
       "      <td id=\"T_3d55c_row11_col3\" class=\"data row11 col3\" >0.0486</td>\n",
       "      <td id=\"T_3d55c_row11_col4\" class=\"data row11 col4\" >0.0437</td>\n",
       "      <td id=\"T_3d55c_row11_col5\" class=\"data row11 col5\" >0.0670</td>\n",
       "      <td id=\"T_3d55c_row11_col6\" class=\"data row11 col6\" >0.0690</td>\n",
       "    </tr>\n",
       "  </tbody>\n",
       "</table>\n"
      ],
      "text/plain": [
       "<pandas.io.formats.style.Styler at 0x18c3e7c7a50>"
      ]
     },
     "metadata": {},
     "output_type": "display_data"
    },
    {
     "data": {
      "text/html": [],
      "text/plain": [
       "<IPython.core.display.HTML object>"
      ]
     },
     "metadata": {},
     "output_type": "display_data"
    },
    {
     "name": "stdout",
     "output_type": "stream",
     "text": [
      "=> Aplicando plot  auc\n"
     ]
    },
    {
     "data": {
      "text/html": [],
      "text/plain": [
       "<IPython.core.display.HTML object>"
      ]
     },
     "metadata": {},
     "output_type": "display_data"
    },
    {
     "name": "stdout",
     "output_type": "stream",
     "text": [
      "=> Nao possivel plotar:  auc\n",
      "=> Aplicando plot  pr\n"
     ]
    },
    {
     "data": {
      "text/html": [],
      "text/plain": [
       "<IPython.core.display.HTML object>"
      ]
     },
     "metadata": {},
     "output_type": "display_data"
    },
    {
     "name": "stdout",
     "output_type": "stream",
     "text": [
      "=> Nao possivel plotar:  pr\n",
      "=> Aplicando plot  confusion_matrix\n"
     ]
    },
    {
     "data": {
      "text/html": [],
      "text/plain": [
       "<IPython.core.display.HTML object>"
      ]
     },
     "metadata": {},
     "output_type": "display_data"
    },
    {
     "name": "stdout",
     "output_type": "stream",
     "text": [
      "=> Nao possivel plotar:  confusion_matrix\n",
      "=> Aplicando plot  threshold\n"
     ]
    },
    {
     "data": {
      "text/html": [],
      "text/plain": [
       "<IPython.core.display.HTML object>"
      ]
     },
     "metadata": {},
     "output_type": "display_data"
    },
    {
     "name": "stdout",
     "output_type": "stream",
     "text": [
      "=> Nao possivel plotar:  threshold\n",
      "=> Aplicando plot  learning\n"
     ]
    },
    {
     "data": {
      "text/html": [],
      "text/plain": [
       "<IPython.core.display.HTML object>"
      ]
     },
     "metadata": {},
     "output_type": "display_data"
    },
    {
     "name": "stdout",
     "output_type": "stream",
     "text": [
      "=> Nao possivel plotar:  learning\n",
      "Transformation Pipeline and Model Successfully Saved\n",
      "Transformation Pipeline and Model Successfully Loaded\n"
     ]
    }
   ],
   "source": [
    "dataset_dev = pd.read_parquet('../../Data/Processed/base_test.parquet', engine='pyarrow')\n",
    "dataset_prod = pd.read_parquet('../../Data/Processed/base_train.parquet', engine='pyarrow')\n",
    "\n",
    "model_name = 'lr'\n",
    "probability_threshold = 0.5\n",
    "cross_validation = True\n",
    "fold_strategy = 'stratifiedkfold',\n",
    "fold = 10\n",
    "\n",
    "# train/test\n",
    "s = pc.setup(data = dataset_dev, \n",
    "             target = kobe_target_col,\n",
    "             train_size=0.7,\n",
    "             fold_strategy = 'stratifiedkfold',\n",
    "             fold = fold,\n",
    "             log_experiment = True, \n",
    "             experiment_name = experiment_name, \n",
    "             log_plots = True\n",
    "            )\n",
    "bestmodel = pc.create_model(model_name,\n",
    "                            cross_validation = cross_validation, \n",
    "                            probability_threshold=probability_threshold)\n",
    "\n",
    "# Log do run, e nao do modelo respectivo\n",
    "classification_plots = [ 'auc','pr','confusion_matrix',\n",
    "#                          'error', 'class_report', \n",
    "                        'threshold',\n",
    "                         'learning',\n",
    "                        # 'vc',\n",
    "                        # 'feature',\n",
    "                       ]\n",
    "for plot_type in classification_plots:\n",
    "    print('=> Aplicando plot ', plot_type)\n",
    "    try:\n",
    "        artifact = pc.plot_model(bestmodel, plot=plot_type, save=True)\n",
    "        mlflow.log_artifact('../mlruns', artifact)\n",
    "    except:\n",
    "        print('=> Nao possivel plotar: ', plot_type )\n",
    "        continue\n",
    "\n",
    "pc.save_model(bestmodel, f'./{registered_model_name}') \n",
    "# Carrega novamente o pipeline + bestmodel\n",
    "model_pipe = pc.load_model(f'./{registered_model_name}')\n",
    "\n",
    "mlflow.end_run()"
   ]
  },
  {
   "cell_type": "code",
   "execution_count": 5,
   "metadata": {},
   "outputs": [
    {
     "data": {
      "text/html": [],
      "text/plain": [
       "<IPython.core.display.HTML object>"
      ]
     },
     "metadata": {},
     "output_type": "display_data"
    },
    {
     "name": "stdout",
     "output_type": "stream",
     "text": [
      "=> Aceito o modelo com precisão 0.575925925925926 (min: 0.4)\n"
     ]
    },
    {
     "name": "stderr",
     "output_type": "stream",
     "text": [
      "Registered model 'modelo_kobe_lr' already exists. Creating a new version of this model...\n",
      "Created version '2' of model 'modelo_kobe_lr'.\n"
     ]
    }
   ],
   "source": [
    "with mlflow.start_run(experiment_id=experiment_id, run_name = 'AprovacaoModelo'):\n",
    "    pred_holdout = pc.predict_model(bestmodel, raw_score=True)\n",
    "    pred_holdout.drop('prediction_score_0', axis=1, inplace=True)\n",
    "    pred_holdout.rename({'prediction_score_1': 'prediction_score'}, axis=1, inplace=True)\n",
    "    pr = metrics.precision_score(pred_holdout[kobe_target_col], pred_holdout['prediction_label'])\n",
    "    if pr > min_precision:\n",
    "        print(f'=> Aceito o modelo com precisão {pr} (min: {min_precision})')\n",
    "        pred_holdout.to_parquet('../../Data/Processed/modelo_kobe_teste.parquet')\n",
    "        # Assinatura do Modelo Inferida pelo MLFlow\n",
    "        model_features = list(dataset_dev.drop(kobe_target_col, axis=1).columns)\n",
    "        inf_signature = infer_signature(dataset_dev[model_features], \n",
    "                                        model_pipe.predict(dataset_dev.drop(kobe_target_col, axis=1)))\n",
    "        # Exemplo de entrada para o MLmodel\n",
    "        input_example = {x: dataset_dev[x].values[:nexamples] for x in model_features}\n",
    "        # Log do pipeline de modelagem do sklearn e registrar como uma nova versao\n",
    "        mlflow.sklearn.log_model(\n",
    "            sk_model=model_pipe,\n",
    "            artifact_path=\"sklearn-model\",\n",
    "            registered_model_name=registered_model_name,\n",
    "            signature = inf_signature,\n",
    "            input_example = input_example\n",
    "        )\n",
    "        # Criacao do cliente do servico MLFlow e atualizacao versao modelo\n",
    "        client = MlflowClient()\n",
    "        model_version = client.get_latest_versions(registered_model_name)[-1].version\n",
    "        # Registrar o modelo como staging\n",
    "        client.set_registered_model_alias(\n",
    "            name    = registered_model_name, \n",
    "            alias   = \"staging\", \n",
    "            version = model_version\n",
    "        )\n",
    "        log_loss = metrics.log_loss(pred_holdout[kobe_target_col], pred_holdout['prediction_score'])\n",
    "\n",
    "    else:\n",
    "        print(f'=> Rejeitado o modelo com precisão {pr} (min: {min_precision})')\n",
    "\n",
    "    # LOG DE PARAMETROS DO MODELO\n",
    "    mlflow.log_param(\"precisao_minima\", min_precision)\n",
    "\n",
    "    # LOG DE METRICAS GLOBAIS\n",
    "    mlflow.log_metric(\"precisao\", pr)\n",
    "    mlflow.log_metric(\"log_loss\", log_loss)\n",
    "    \n",
    "\n",
    "mlflow.end_run()"
   ]
  },
  {
   "cell_type": "code",
   "execution_count": null,
   "metadata": {},
   "outputs": [],
   "source": []
  }
 ],
 "metadata": {
  "kernelspec": {
   "display_name": "Python 3 (ipykernel)",
   "language": "python",
   "name": "python3"
  },
  "language_info": {
   "codemirror_mode": {
    "name": "ipython",
    "version": 3
   },
   "file_extension": ".py",
   "mimetype": "text/x-python",
   "name": "python",
   "nbconvert_exporter": "python",
   "pygments_lexer": "ipython3",
   "version": "3.11.8"
  }
 },
 "nbformat": 4,
 "nbformat_minor": 4
}
