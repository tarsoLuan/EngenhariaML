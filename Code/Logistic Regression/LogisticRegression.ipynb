{
 "cells": [
  {
   "cell_type": "code",
   "execution_count": 20,
   "metadata": {},
   "outputs": [],
   "source": [
    "import pandas as pd\n",
    "import pycaret.classification as pc\n",
    "import mlflow\n",
    "import mlflow.sklearn\n",
    "from mlflow.models.signature import infer_signature\n",
    "from mlflow.tracking import MlflowClient\n",
    "from sklearn.metrics import log_loss, f1_score\n",
    "import numpy as np\n",
    "\n",
    "from sklearn import linear_model, preprocessing, metrics, model_selection"
   ]
  },
  {
   "cell_type": "code",
   "execution_count": 21,
   "metadata": {},
   "outputs": [],
   "source": [
    "mlflow.set_tracking_uri(\"sqlite:///mlruns/mlruns.db\")\n",
    "\n",
    "experiment_name = 'Logistic Regression'\n",
    "experiment = mlflow.get_experiment_by_name(experiment_name)\n",
    "if experiment is None:\n",
    "    experiment_id = mlflow.create_experiment(experiment_name)\n",
    "    experiment = mlflow.get_experiment(experiment_id)\n",
    "experiment_id = experiment.experiment_id"
   ]
  },
  {
   "cell_type": "code",
   "execution_count": 23,
   "metadata": {},
   "outputs": [],
   "source": [
    "registered_model_name = 'modelo_kobe_lr'\n",
    "min_precision = 0.4\n",
    "model_version = -1 # recuperar a ultima versao\n",
    "nexamples = 4\n",
    "\n",
    "kobe_target_col = 'shot_made_flag'\n"
   ]
  },
  {
   "cell_type": "code",
   "execution_count": 29,
   "metadata": {},
   "outputs": [
    {
     "data": {
      "text/html": [
       "<style type=\"text/css\">\n",
       "#T_becda_row8_col1 {\n",
       "  background-color: lightgreen;\n",
       "}\n",
       "</style>\n",
       "<table id=\"T_becda\">\n",
       "  <thead>\n",
       "    <tr>\n",
       "      <th class=\"blank level0\" >&nbsp;</th>\n",
       "      <th id=\"T_becda_level0_col0\" class=\"col_heading level0 col0\" >Description</th>\n",
       "      <th id=\"T_becda_level0_col1\" class=\"col_heading level0 col1\" >Value</th>\n",
       "    </tr>\n",
       "  </thead>\n",
       "  <tbody>\n",
       "    <tr>\n",
       "      <th id=\"T_becda_level0_row0\" class=\"row_heading level0 row0\" >0</th>\n",
       "      <td id=\"T_becda_row0_col0\" class=\"data row0 col0\" >Session id</td>\n",
       "      <td id=\"T_becda_row0_col1\" class=\"data row0 col1\" >8397</td>\n",
       "    </tr>\n",
       "    <tr>\n",
       "      <th id=\"T_becda_level0_row1\" class=\"row_heading level0 row1\" >1</th>\n",
       "      <td id=\"T_becda_row1_col0\" class=\"data row1 col0\" >Target</td>\n",
       "      <td id=\"T_becda_row1_col1\" class=\"data row1 col1\" >shot_made_flag</td>\n",
       "    </tr>\n",
       "    <tr>\n",
       "      <th id=\"T_becda_level0_row2\" class=\"row_heading level0 row2\" >2</th>\n",
       "      <td id=\"T_becda_row2_col0\" class=\"data row2 col0\" >Target type</td>\n",
       "      <td id=\"T_becda_row2_col1\" class=\"data row2 col1\" >Binary</td>\n",
       "    </tr>\n",
       "    <tr>\n",
       "      <th id=\"T_becda_level0_row3\" class=\"row_heading level0 row3\" >3</th>\n",
       "      <td id=\"T_becda_row3_col0\" class=\"data row3 col0\" >Original data shape</td>\n",
       "      <td id=\"T_becda_row3_col1\" class=\"data row3 col1\" >(5140, 7)</td>\n",
       "    </tr>\n",
       "    <tr>\n",
       "      <th id=\"T_becda_level0_row4\" class=\"row_heading level0 row4\" >4</th>\n",
       "      <td id=\"T_becda_row4_col0\" class=\"data row4 col0\" >Transformed data shape</td>\n",
       "      <td id=\"T_becda_row4_col1\" class=\"data row4 col1\" >(5140, 7)</td>\n",
       "    </tr>\n",
       "    <tr>\n",
       "      <th id=\"T_becda_level0_row5\" class=\"row_heading level0 row5\" >5</th>\n",
       "      <td id=\"T_becda_row5_col0\" class=\"data row5 col0\" >Transformed train set shape</td>\n",
       "      <td id=\"T_becda_row5_col1\" class=\"data row5 col1\" >(3597, 7)</td>\n",
       "    </tr>\n",
       "    <tr>\n",
       "      <th id=\"T_becda_level0_row6\" class=\"row_heading level0 row6\" >6</th>\n",
       "      <td id=\"T_becda_row6_col0\" class=\"data row6 col0\" >Transformed test set shape</td>\n",
       "      <td id=\"T_becda_row6_col1\" class=\"data row6 col1\" >(1543, 7)</td>\n",
       "    </tr>\n",
       "    <tr>\n",
       "      <th id=\"T_becda_level0_row7\" class=\"row_heading level0 row7\" >7</th>\n",
       "      <td id=\"T_becda_row7_col0\" class=\"data row7 col0\" >Numeric features</td>\n",
       "      <td id=\"T_becda_row7_col1\" class=\"data row7 col1\" >6</td>\n",
       "    </tr>\n",
       "    <tr>\n",
       "      <th id=\"T_becda_level0_row8\" class=\"row_heading level0 row8\" >8</th>\n",
       "      <td id=\"T_becda_row8_col0\" class=\"data row8 col0\" >Preprocess</td>\n",
       "      <td id=\"T_becda_row8_col1\" class=\"data row8 col1\" >True</td>\n",
       "    </tr>\n",
       "    <tr>\n",
       "      <th id=\"T_becda_level0_row9\" class=\"row_heading level0 row9\" >9</th>\n",
       "      <td id=\"T_becda_row9_col0\" class=\"data row9 col0\" >Imputation type</td>\n",
       "      <td id=\"T_becda_row9_col1\" class=\"data row9 col1\" >simple</td>\n",
       "    </tr>\n",
       "    <tr>\n",
       "      <th id=\"T_becda_level0_row10\" class=\"row_heading level0 row10\" >10</th>\n",
       "      <td id=\"T_becda_row10_col0\" class=\"data row10 col0\" >Numeric imputation</td>\n",
       "      <td id=\"T_becda_row10_col1\" class=\"data row10 col1\" >mean</td>\n",
       "    </tr>\n",
       "    <tr>\n",
       "      <th id=\"T_becda_level0_row11\" class=\"row_heading level0 row11\" >11</th>\n",
       "      <td id=\"T_becda_row11_col0\" class=\"data row11 col0\" >Categorical imputation</td>\n",
       "      <td id=\"T_becda_row11_col1\" class=\"data row11 col1\" >mode</td>\n",
       "    </tr>\n",
       "    <tr>\n",
       "      <th id=\"T_becda_level0_row12\" class=\"row_heading level0 row12\" >12</th>\n",
       "      <td id=\"T_becda_row12_col0\" class=\"data row12 col0\" >Fold Generator</td>\n",
       "      <td id=\"T_becda_row12_col1\" class=\"data row12 col1\" >StratifiedKFold</td>\n",
       "    </tr>\n",
       "    <tr>\n",
       "      <th id=\"T_becda_level0_row13\" class=\"row_heading level0 row13\" >13</th>\n",
       "      <td id=\"T_becda_row13_col0\" class=\"data row13 col0\" >Fold Number</td>\n",
       "      <td id=\"T_becda_row13_col1\" class=\"data row13 col1\" >10</td>\n",
       "    </tr>\n",
       "    <tr>\n",
       "      <th id=\"T_becda_level0_row14\" class=\"row_heading level0 row14\" >14</th>\n",
       "      <td id=\"T_becda_row14_col0\" class=\"data row14 col0\" >CPU Jobs</td>\n",
       "      <td id=\"T_becda_row14_col1\" class=\"data row14 col1\" >-1</td>\n",
       "    </tr>\n",
       "    <tr>\n",
       "      <th id=\"T_becda_level0_row15\" class=\"row_heading level0 row15\" >15</th>\n",
       "      <td id=\"T_becda_row15_col0\" class=\"data row15 col0\" >Use GPU</td>\n",
       "      <td id=\"T_becda_row15_col1\" class=\"data row15 col1\" >False</td>\n",
       "    </tr>\n",
       "    <tr>\n",
       "      <th id=\"T_becda_level0_row16\" class=\"row_heading level0 row16\" >16</th>\n",
       "      <td id=\"T_becda_row16_col0\" class=\"data row16 col0\" >Log Experiment</td>\n",
       "      <td id=\"T_becda_row16_col1\" class=\"data row16 col1\" >MlflowLogger</td>\n",
       "    </tr>\n",
       "    <tr>\n",
       "      <th id=\"T_becda_level0_row17\" class=\"row_heading level0 row17\" >17</th>\n",
       "      <td id=\"T_becda_row17_col0\" class=\"data row17 col0\" >Experiment Name</td>\n",
       "      <td id=\"T_becda_row17_col1\" class=\"data row17 col1\" >Logistic Regression</td>\n",
       "    </tr>\n",
       "    <tr>\n",
       "      <th id=\"T_becda_level0_row18\" class=\"row_heading level0 row18\" >18</th>\n",
       "      <td id=\"T_becda_row18_col0\" class=\"data row18 col0\" >USI</td>\n",
       "      <td id=\"T_becda_row18_col1\" class=\"data row18 col1\" >fbf2</td>\n",
       "    </tr>\n",
       "  </tbody>\n",
       "</table>\n"
      ],
      "text/plain": [
       "<pandas.io.formats.style.Styler at 0x144675f6990>"
      ]
     },
     "metadata": {},
     "output_type": "display_data"
    },
    {
     "data": {
      "text/html": [],
      "text/plain": [
       "<IPython.core.display.HTML object>"
      ]
     },
     "metadata": {},
     "output_type": "display_data"
    },
    {
     "data": {
      "text/html": [
       "<style type=\"text/css\">\n",
       "#T_54b68_row10_col0, #T_54b68_row10_col1, #T_54b68_row10_col2, #T_54b68_row10_col3, #T_54b68_row10_col4, #T_54b68_row10_col5, #T_54b68_row10_col6 {\n",
       "  background: yellow;\n",
       "}\n",
       "</style>\n",
       "<table id=\"T_54b68\">\n",
       "  <thead>\n",
       "    <tr>\n",
       "      <th class=\"blank level0\" >&nbsp;</th>\n",
       "      <th id=\"T_54b68_level0_col0\" class=\"col_heading level0 col0\" >Accuracy</th>\n",
       "      <th id=\"T_54b68_level0_col1\" class=\"col_heading level0 col1\" >AUC</th>\n",
       "      <th id=\"T_54b68_level0_col2\" class=\"col_heading level0 col2\" >Recall</th>\n",
       "      <th id=\"T_54b68_level0_col3\" class=\"col_heading level0 col3\" >Prec.</th>\n",
       "      <th id=\"T_54b68_level0_col4\" class=\"col_heading level0 col4\" >F1</th>\n",
       "      <th id=\"T_54b68_level0_col5\" class=\"col_heading level0 col5\" >Kappa</th>\n",
       "      <th id=\"T_54b68_level0_col6\" class=\"col_heading level0 col6\" >MCC</th>\n",
       "    </tr>\n",
       "    <tr>\n",
       "      <th class=\"index_name level0\" >Fold</th>\n",
       "      <th class=\"blank col0\" >&nbsp;</th>\n",
       "      <th class=\"blank col1\" >&nbsp;</th>\n",
       "      <th class=\"blank col2\" >&nbsp;</th>\n",
       "      <th class=\"blank col3\" >&nbsp;</th>\n",
       "      <th class=\"blank col4\" >&nbsp;</th>\n",
       "      <th class=\"blank col5\" >&nbsp;</th>\n",
       "      <th class=\"blank col6\" >&nbsp;</th>\n",
       "    </tr>\n",
       "  </thead>\n",
       "  <tbody>\n",
       "    <tr>\n",
       "      <th id=\"T_54b68_level0_row0\" class=\"row_heading level0 row0\" >0</th>\n",
       "      <td id=\"T_54b68_row0_col0\" class=\"data row0 col0\" >0.6194</td>\n",
       "      <td id=\"T_54b68_row0_col1\" class=\"data row0 col1\" >0.6404</td>\n",
       "      <td id=\"T_54b68_row0_col2\" class=\"data row0 col2\" >0.4383</td>\n",
       "      <td id=\"T_54b68_row0_col3\" class=\"data row0 col3\" >0.6068</td>\n",
       "      <td id=\"T_54b68_row0_col4\" class=\"data row0 col4\" >0.5090</td>\n",
       "      <td id=\"T_54b68_row0_col5\" class=\"data row0 col5\" >0.2113</td>\n",
       "      <td id=\"T_54b68_row0_col6\" class=\"data row0 col6\" >0.2188</td>\n",
       "    </tr>\n",
       "    <tr>\n",
       "      <th id=\"T_54b68_level0_row1\" class=\"row_heading level0 row1\" >1</th>\n",
       "      <td id=\"T_54b68_row1_col0\" class=\"data row1 col0\" >0.6750</td>\n",
       "      <td id=\"T_54b68_row1_col1\" class=\"data row1 col1\" >0.6930</td>\n",
       "      <td id=\"T_54b68_row1_col2\" class=\"data row1 col2\" >0.5617</td>\n",
       "      <td id=\"T_54b68_row1_col3\" class=\"data row1 col3\" >0.6642</td>\n",
       "      <td id=\"T_54b68_row1_col4\" class=\"data row1 col4\" >0.6087</td>\n",
       "      <td id=\"T_54b68_row1_col5\" class=\"data row1 col5\" >0.3341</td>\n",
       "      <td id=\"T_54b68_row1_col6\" class=\"data row1 col6\" >0.3375</td>\n",
       "    </tr>\n",
       "    <tr>\n",
       "      <th id=\"T_54b68_level0_row2\" class=\"row_heading level0 row2\" >2</th>\n",
       "      <td id=\"T_54b68_row2_col0\" class=\"data row2 col0\" >0.5972</td>\n",
       "      <td id=\"T_54b68_row2_col1\" class=\"data row2 col1\" >0.6334</td>\n",
       "      <td id=\"T_54b68_row2_col2\" class=\"data row2 col2\" >0.4286</td>\n",
       "      <td id=\"T_54b68_row2_col3\" class=\"data row2 col3\" >0.5656</td>\n",
       "      <td id=\"T_54b68_row2_col4\" class=\"data row2 col4\" >0.4876</td>\n",
       "      <td id=\"T_54b68_row2_col5\" class=\"data row2 col5\" >0.1661</td>\n",
       "      <td id=\"T_54b68_row2_col6\" class=\"data row2 col6\" >0.1704</td>\n",
       "    </tr>\n",
       "    <tr>\n",
       "      <th id=\"T_54b68_level0_row3\" class=\"row_heading level0 row3\" >3</th>\n",
       "      <td id=\"T_54b68_row3_col0\" class=\"data row3 col0\" >0.6361</td>\n",
       "      <td id=\"T_54b68_row3_col1\" class=\"data row3 col1\" >0.6526</td>\n",
       "      <td id=\"T_54b68_row3_col2\" class=\"data row3 col2\" >0.4596</td>\n",
       "      <td id=\"T_54b68_row3_col3\" class=\"data row3 col3\" >0.6271</td>\n",
       "      <td id=\"T_54b68_row3_col4\" class=\"data row3 col4\" >0.5305</td>\n",
       "      <td id=\"T_54b68_row3_col5\" class=\"data row3 col5\" >0.2448</td>\n",
       "      <td id=\"T_54b68_row3_col6\" class=\"data row3 col6\" >0.2526</td>\n",
       "    </tr>\n",
       "    <tr>\n",
       "      <th id=\"T_54b68_level0_row4\" class=\"row_heading level0 row4\" >4</th>\n",
       "      <td id=\"T_54b68_row4_col0\" class=\"data row4 col0\" >0.5778</td>\n",
       "      <td id=\"T_54b68_row4_col1\" class=\"data row4 col1\" >0.5880</td>\n",
       "      <td id=\"T_54b68_row4_col2\" class=\"data row4 col2\" >0.3665</td>\n",
       "      <td id=\"T_54b68_row4_col3\" class=\"data row4 col3\" >0.5413</td>\n",
       "      <td id=\"T_54b68_row4_col4\" class=\"data row4 col4\" >0.4370</td>\n",
       "      <td id=\"T_54b68_row4_col5\" class=\"data row4 col5\" >0.1189</td>\n",
       "      <td id=\"T_54b68_row4_col6\" class=\"data row4 col6\" >0.1247</td>\n",
       "    </tr>\n",
       "    <tr>\n",
       "      <th id=\"T_54b68_level0_row5\" class=\"row_heading level0 row5\" >5</th>\n",
       "      <td id=\"T_54b68_row5_col0\" class=\"data row5 col0\" >0.6250</td>\n",
       "      <td id=\"T_54b68_row5_col1\" class=\"data row5 col1\" >0.6251</td>\n",
       "      <td id=\"T_54b68_row5_col2\" class=\"data row5 col2\" >0.4907</td>\n",
       "      <td id=\"T_54b68_row5_col3\" class=\"data row5 col3\" >0.5985</td>\n",
       "      <td id=\"T_54b68_row5_col4\" class=\"data row5 col4\" >0.5392</td>\n",
       "      <td id=\"T_54b68_row5_col5\" class=\"data row5 col5\" >0.2283</td>\n",
       "      <td id=\"T_54b68_row5_col6\" class=\"data row5 col6\" >0.2315</td>\n",
       "    </tr>\n",
       "    <tr>\n",
       "      <th id=\"T_54b68_level0_row6\" class=\"row_heading level0 row6\" >6</th>\n",
       "      <td id=\"T_54b68_row6_col0\" class=\"data row6 col0\" >0.6056</td>\n",
       "      <td id=\"T_54b68_row6_col1\" class=\"data row6 col1\" >0.6335</td>\n",
       "      <td id=\"T_54b68_row6_col2\" class=\"data row6 col2\" >0.4783</td>\n",
       "      <td id=\"T_54b68_row6_col3\" class=\"data row6 col3\" >0.5704</td>\n",
       "      <td id=\"T_54b68_row6_col4\" class=\"data row6 col4\" >0.5203</td>\n",
       "      <td id=\"T_54b68_row6_col5\" class=\"data row6 col5\" >0.1897</td>\n",
       "      <td id=\"T_54b68_row6_col6\" class=\"data row6 col6\" >0.1919</td>\n",
       "    </tr>\n",
       "    <tr>\n",
       "      <th id=\"T_54b68_level0_row7\" class=\"row_heading level0 row7\" >7</th>\n",
       "      <td id=\"T_54b68_row7_col0\" class=\"data row7 col0\" >0.5877</td>\n",
       "      <td id=\"T_54b68_row7_col1\" class=\"data row7 col1\" >0.6030</td>\n",
       "      <td id=\"T_54b68_row7_col2\" class=\"data row7 col2\" >0.4037</td>\n",
       "      <td id=\"T_54b68_row7_col3\" class=\"data row7 col3\" >0.5556</td>\n",
       "      <td id=\"T_54b68_row7_col4\" class=\"data row7 col4\" >0.4676</td>\n",
       "      <td id=\"T_54b68_row7_col5\" class=\"data row7 col5\" >0.1448</td>\n",
       "      <td id=\"T_54b68_row7_col6\" class=\"data row7 col6\" >0.1497</td>\n",
       "    </tr>\n",
       "    <tr>\n",
       "      <th id=\"T_54b68_level0_row8\" class=\"row_heading level0 row8\" >8</th>\n",
       "      <td id=\"T_54b68_row8_col0\" class=\"data row8 col0\" >0.6128</td>\n",
       "      <td id=\"T_54b68_row8_col1\" class=\"data row8 col1\" >0.6581</td>\n",
       "      <td id=\"T_54b68_row8_col2\" class=\"data row8 col2\" >0.4596</td>\n",
       "      <td id=\"T_54b68_row8_col3\" class=\"data row8 col3\" >0.5873</td>\n",
       "      <td id=\"T_54b68_row8_col4\" class=\"data row8 col4\" >0.5157</td>\n",
       "      <td id=\"T_54b68_row8_col5\" class=\"data row8 col5\" >0.2011</td>\n",
       "      <td id=\"T_54b68_row8_col6\" class=\"data row8 col6\" >0.2053</td>\n",
       "    </tr>\n",
       "    <tr>\n",
       "      <th id=\"T_54b68_level0_row9\" class=\"row_heading level0 row9\" >9</th>\n",
       "      <td id=\"T_54b68_row9_col0\" class=\"data row9 col0\" >0.5599</td>\n",
       "      <td id=\"T_54b68_row9_col1\" class=\"data row9 col1\" >0.5618</td>\n",
       "      <td id=\"T_54b68_row9_col2\" class=\"data row9 col2\" >0.4161</td>\n",
       "      <td id=\"T_54b68_row9_col3\" class=\"data row9 col3\" >0.5115</td>\n",
       "      <td id=\"T_54b68_row9_col4\" class=\"data row9 col4\" >0.4589</td>\n",
       "      <td id=\"T_54b68_row9_col5\" class=\"data row9 col5\" >0.0946</td>\n",
       "      <td id=\"T_54b68_row9_col6\" class=\"data row9 col6\" >0.0960</td>\n",
       "    </tr>\n",
       "    <tr>\n",
       "      <th id=\"T_54b68_level0_row10\" class=\"row_heading level0 row10\" >Mean</th>\n",
       "      <td id=\"T_54b68_row10_col0\" class=\"data row10 col0\" >0.6097</td>\n",
       "      <td id=\"T_54b68_row10_col1\" class=\"data row10 col1\" >0.6289</td>\n",
       "      <td id=\"T_54b68_row10_col2\" class=\"data row10 col2\" >0.4503</td>\n",
       "      <td id=\"T_54b68_row10_col3\" class=\"data row10 col3\" >0.5828</td>\n",
       "      <td id=\"T_54b68_row10_col4\" class=\"data row10 col4\" >0.5075</td>\n",
       "      <td id=\"T_54b68_row10_col5\" class=\"data row10 col5\" >0.1934</td>\n",
       "      <td id=\"T_54b68_row10_col6\" class=\"data row10 col6\" >0.1978</td>\n",
       "    </tr>\n",
       "    <tr>\n",
       "      <th id=\"T_54b68_level0_row11\" class=\"row_heading level0 row11\" >Std</th>\n",
       "      <td id=\"T_54b68_row11_col0\" class=\"data row11 col0\" >0.0307</td>\n",
       "      <td id=\"T_54b68_row11_col1\" class=\"data row11 col1\" >0.0354</td>\n",
       "      <td id=\"T_54b68_row11_col2\" class=\"data row11 col2\" >0.0510</td>\n",
       "      <td id=\"T_54b68_row11_col3\" class=\"data row11 col3\" >0.0418</td>\n",
       "      <td id=\"T_54b68_row11_col4\" class=\"data row11 col4\" >0.0462</td>\n",
       "      <td id=\"T_54b68_row11_col5\" class=\"data row11 col5\" >0.0652</td>\n",
       "      <td id=\"T_54b68_row11_col6\" class=\"data row11 col6\" >0.0656</td>\n",
       "    </tr>\n",
       "  </tbody>\n",
       "</table>\n"
      ],
      "text/plain": [
       "<pandas.io.formats.style.Styler at 0x14467842650>"
      ]
     },
     "metadata": {},
     "output_type": "display_data"
    },
    {
     "data": {
      "text/html": [],
      "text/plain": [
       "<IPython.core.display.HTML object>"
      ]
     },
     "metadata": {},
     "output_type": "display_data"
    },
    {
     "name": "stdout",
     "output_type": "stream",
     "text": [
      "=> Aplicando plot  auc\n"
     ]
    },
    {
     "data": {
      "text/html": [],
      "text/plain": [
       "<IPython.core.display.HTML object>"
      ]
     },
     "metadata": {},
     "output_type": "display_data"
    },
    {
     "name": "stdout",
     "output_type": "stream",
     "text": [
      "=> Nao possivel plotar:  auc\n",
      "=> Aplicando plot  pr\n"
     ]
    },
    {
     "data": {
      "text/html": [],
      "text/plain": [
       "<IPython.core.display.HTML object>"
      ]
     },
     "metadata": {},
     "output_type": "display_data"
    },
    {
     "name": "stdout",
     "output_type": "stream",
     "text": [
      "=> Nao possivel plotar:  pr\n",
      "=> Aplicando plot  confusion_matrix\n"
     ]
    },
    {
     "data": {
      "text/html": [],
      "text/plain": [
       "<IPython.core.display.HTML object>"
      ]
     },
     "metadata": {},
     "output_type": "display_data"
    },
    {
     "name": "stdout",
     "output_type": "stream",
     "text": [
      "=> Nao possivel plotar:  confusion_matrix\n",
      "=> Aplicando plot  threshold\n"
     ]
    },
    {
     "data": {
      "text/html": [],
      "text/plain": [
       "<IPython.core.display.HTML object>"
      ]
     },
     "metadata": {},
     "output_type": "display_data"
    },
    {
     "name": "stdout",
     "output_type": "stream",
     "text": [
      "=> Nao possivel plotar:  threshold\n",
      "=> Aplicando plot  learning\n"
     ]
    },
    {
     "data": {
      "text/html": [],
      "text/plain": [
       "<IPython.core.display.HTML object>"
      ]
     },
     "metadata": {},
     "output_type": "display_data"
    },
    {
     "name": "stdout",
     "output_type": "stream",
     "text": [
      "=> Nao possivel plotar:  learning\n",
      "Transformation Pipeline and Model Successfully Saved\n",
      "Transformation Pipeline and Model Successfully Loaded\n"
     ]
    },
    {
     "ename": "ValueError",
     "evalue": "The feature names should match those that were passed during fit.\nFeature names unseen at fit time:\n- shot_made_flag\n",
     "output_type": "error",
     "traceback": [
      "\u001b[1;31m---------------------------------------------------------------------------\u001b[0m",
      "\u001b[1;31mValueError\u001b[0m                                Traceback (most recent call last)",
      "Cell \u001b[1;32mIn[29], line 45\u001b[0m\n\u001b[0;32m     42\u001b[0m \u001b[38;5;66;03m# Carrega novamente o pipeline + bestmodel\u001b[39;00m\n\u001b[0;32m     43\u001b[0m model_pipe \u001b[38;5;241m=\u001b[39m pc\u001b[38;5;241m.\u001b[39mload_model(\u001b[38;5;124mf\u001b[39m\u001b[38;5;124m'\u001b[39m\u001b[38;5;124m./\u001b[39m\u001b[38;5;132;01m{\u001b[39;00mregistered_model_name\u001b[38;5;132;01m}\u001b[39;00m\u001b[38;5;124m'\u001b[39m)\n\u001b[1;32m---> 45\u001b[0m log_loss_dev \u001b[38;5;241m=\u001b[39m log_loss(dataset_dev[kobe_target_col], \u001b[43mmodel_pipe\u001b[49m\u001b[38;5;241;43m.\u001b[39;49m\u001b[43mpredict\u001b[49m\u001b[43m(\u001b[49m\u001b[43mdataset_dev\u001b[49m\u001b[43m)\u001b[49m)\n\u001b[0;32m     46\u001b[0m f1_dev \u001b[38;5;241m=\u001b[39m f1_score(dataset_dev[kobe_target_col], model_pipe\u001b[38;5;241m.\u001b[39mpredict(dataset_dev))\n\u001b[0;32m     48\u001b[0m \u001b[38;5;28mprint\u001b[39m(\u001b[38;5;124m'\u001b[39m\u001b[38;5;124mLog Loss: \u001b[39m\u001b[38;5;124m'\u001b[39m, log_loss_dev)\n",
      "File \u001b[1;32m~\\AppData\\Roaming\\Python\\Python311\\site-packages\\pycaret\\internal\\pipeline.py:328\u001b[0m, in \u001b[0;36mPipeline.predict\u001b[1;34m(self, X, **params)\u001b[0m\n\u001b[0;32m    324\u001b[0m \u001b[38;5;129m@available_if\u001b[39m(_final_estimator_has(\u001b[38;5;124m\"\u001b[39m\u001b[38;5;124mpredict\u001b[39m\u001b[38;5;124m\"\u001b[39m))\n\u001b[0;32m    325\u001b[0m \u001b[38;5;28;01mdef\u001b[39;00m \u001b[38;5;21mpredict\u001b[39m(\u001b[38;5;28mself\u001b[39m, X, \u001b[38;5;241m*\u001b[39m\u001b[38;5;241m*\u001b[39mparams):\n\u001b[0;32m    326\u001b[0m     X, _ \u001b[38;5;241m=\u001b[39m \u001b[38;5;28mself\u001b[39m\u001b[38;5;241m.\u001b[39m_memory_full_transform(\u001b[38;5;28mself\u001b[39m, X, \u001b[38;5;28;01mNone\u001b[39;00m, with_final\u001b[38;5;241m=\u001b[39m\u001b[38;5;28;01mFalse\u001b[39;00m)\n\u001b[1;32m--> 328\u001b[0m     y \u001b[38;5;241m=\u001b[39m \u001b[38;5;28;43mself\u001b[39;49m\u001b[38;5;241;43m.\u001b[39;49m\u001b[43msteps\u001b[49m\u001b[43m[\u001b[49m\u001b[38;5;241;43m-\u001b[39;49m\u001b[38;5;241;43m1\u001b[39;49m\u001b[43m]\u001b[49m\u001b[43m[\u001b[49m\u001b[38;5;241;43m-\u001b[39;49m\u001b[38;5;241;43m1\u001b[39;49m\u001b[43m]\u001b[49m\u001b[38;5;241;43m.\u001b[39;49m\u001b[43mpredict\u001b[49m\u001b[43m(\u001b[49m\u001b[43mX\u001b[49m\u001b[43m,\u001b[49m\u001b[43m \u001b[49m\u001b[38;5;241;43m*\u001b[39;49m\u001b[38;5;241;43m*\u001b[39;49m\u001b[43mparams\u001b[49m\u001b[43m)\u001b[49m\n\u001b[0;32m    329\u001b[0m     y \u001b[38;5;241m=\u001b[39m \u001b[38;5;28mself\u001b[39m\u001b[38;5;241m.\u001b[39minverse_transform(y)\n\u001b[0;32m    331\u001b[0m     \u001b[38;5;28;01mreturn\u001b[39;00m y\n",
      "File \u001b[1;32m~\\AppData\\Roaming\\Python\\Python311\\site-packages\\pycaret\\internal\\meta_estimators.py:159\u001b[0m, in \u001b[0;36mCustomProbabilityThresholdClassifier.predict\u001b[1;34m(self, X, **predict_params)\u001b[0m\n\u001b[0;32m    157\u001b[0m \u001b[38;5;28;01mif\u001b[39;00m \u001b[38;5;129;01mnot\u001b[39;00m \u001b[38;5;28mhasattr\u001b[39m(\u001b[38;5;28mself\u001b[39m\u001b[38;5;241m.\u001b[39mclassifier_, \u001b[38;5;124m\"\u001b[39m\u001b[38;5;124mpredict_proba\u001b[39m\u001b[38;5;124m\"\u001b[39m):\n\u001b[0;32m    158\u001b[0m     \u001b[38;5;28;01mreturn\u001b[39;00m \u001b[38;5;28mself\u001b[39m\u001b[38;5;241m.\u001b[39mclassifier_\u001b[38;5;241m.\u001b[39mpredict(X, \u001b[38;5;241m*\u001b[39m\u001b[38;5;241m*\u001b[39mpredict_params)\n\u001b[1;32m--> 159\u001b[0m pred \u001b[38;5;241m=\u001b[39m \u001b[38;5;28;43mself\u001b[39;49m\u001b[38;5;241;43m.\u001b[39;49m\u001b[43mclassifier_\u001b[49m\u001b[38;5;241;43m.\u001b[39;49m\u001b[43mpredict_proba\u001b[49m\u001b[43m(\u001b[49m\u001b[43mX\u001b[49m\u001b[43m,\u001b[49m\u001b[43m \u001b[49m\u001b[38;5;241;43m*\u001b[39;49m\u001b[38;5;241;43m*\u001b[39;49m\u001b[43mpredict_params\u001b[49m\u001b[43m)\u001b[49m\n\u001b[0;32m    160\u001b[0m \u001b[38;5;28;01mif\u001b[39;00m pred\u001b[38;5;241m.\u001b[39mshape[\u001b[38;5;241m1\u001b[39m] \u001b[38;5;241m>\u001b[39m \u001b[38;5;241m2\u001b[39m:\n\u001b[0;32m    161\u001b[0m     \u001b[38;5;28;01mraise\u001b[39;00m \u001b[38;5;167;01mValueError\u001b[39;00m(\n\u001b[0;32m    162\u001b[0m         \u001b[38;5;124mf\u001b[39m\u001b[38;5;124m\"\u001b[39m\u001b[38;5;132;01m{\u001b[39;00m\u001b[38;5;28mself\u001b[39m\u001b[38;5;241m.\u001b[39m\u001b[38;5;18m__class__\u001b[39m\u001b[38;5;241m.\u001b[39m\u001b[38;5;18m__name__\u001b[39m\u001b[38;5;132;01m}\u001b[39;00m\u001b[38;5;124m can only be used for binary classification.\u001b[39m\u001b[38;5;124m\"\u001b[39m\n\u001b[0;32m    163\u001b[0m     )\n",
      "File \u001b[1;32m~\\AppData\\Roaming\\Python\\Python311\\site-packages\\sklearn\\linear_model\\_logistic.py:1377\u001b[0m, in \u001b[0;36mLogisticRegression.predict_proba\u001b[1;34m(self, X)\u001b[0m\n\u001b[0;32m   1369\u001b[0m ovr \u001b[38;5;241m=\u001b[39m \u001b[38;5;28mself\u001b[39m\u001b[38;5;241m.\u001b[39mmulti_class \u001b[38;5;129;01min\u001b[39;00m [\u001b[38;5;124m\"\u001b[39m\u001b[38;5;124movr\u001b[39m\u001b[38;5;124m\"\u001b[39m, \u001b[38;5;124m\"\u001b[39m\u001b[38;5;124mwarn\u001b[39m\u001b[38;5;124m\"\u001b[39m] \u001b[38;5;129;01mor\u001b[39;00m (\n\u001b[0;32m   1370\u001b[0m     \u001b[38;5;28mself\u001b[39m\u001b[38;5;241m.\u001b[39mmulti_class \u001b[38;5;241m==\u001b[39m \u001b[38;5;124m\"\u001b[39m\u001b[38;5;124mauto\u001b[39m\u001b[38;5;124m\"\u001b[39m\n\u001b[0;32m   1371\u001b[0m     \u001b[38;5;129;01mand\u001b[39;00m (\n\u001b[1;32m   (...)\u001b[0m\n\u001b[0;32m   1374\u001b[0m     )\n\u001b[0;32m   1375\u001b[0m )\n\u001b[0;32m   1376\u001b[0m \u001b[38;5;28;01mif\u001b[39;00m ovr:\n\u001b[1;32m-> 1377\u001b[0m     \u001b[38;5;28;01mreturn\u001b[39;00m \u001b[38;5;28;43msuper\u001b[39;49m\u001b[43m(\u001b[49m\u001b[43m)\u001b[49m\u001b[38;5;241;43m.\u001b[39;49m\u001b[43m_predict_proba_lr\u001b[49m\u001b[43m(\u001b[49m\u001b[43mX\u001b[49m\u001b[43m)\u001b[49m\n\u001b[0;32m   1378\u001b[0m \u001b[38;5;28;01melse\u001b[39;00m:\n\u001b[0;32m   1379\u001b[0m     decision \u001b[38;5;241m=\u001b[39m \u001b[38;5;28mself\u001b[39m\u001b[38;5;241m.\u001b[39mdecision_function(X)\n",
      "File \u001b[1;32m~\\AppData\\Roaming\\Python\\Python311\\site-packages\\sklearn\\linear_model\\_base.py:366\u001b[0m, in \u001b[0;36mLinearClassifierMixin._predict_proba_lr\u001b[1;34m(self, X)\u001b[0m\n\u001b[0;32m    359\u001b[0m \u001b[38;5;28;01mdef\u001b[39;00m \u001b[38;5;21m_predict_proba_lr\u001b[39m(\u001b[38;5;28mself\u001b[39m, X):\n\u001b[0;32m    360\u001b[0m \u001b[38;5;250m    \u001b[39m\u001b[38;5;124;03m\"\"\"Probability estimation for OvR logistic regression.\u001b[39;00m\n\u001b[0;32m    361\u001b[0m \n\u001b[0;32m    362\u001b[0m \u001b[38;5;124;03m    Positive class probabilities are computed as\u001b[39;00m\n\u001b[0;32m    363\u001b[0m \u001b[38;5;124;03m    1. / (1. + np.exp(-self.decision_function(X)));\u001b[39;00m\n\u001b[0;32m    364\u001b[0m \u001b[38;5;124;03m    multiclass is handled by normalizing that over all classes.\u001b[39;00m\n\u001b[0;32m    365\u001b[0m \u001b[38;5;124;03m    \"\"\"\u001b[39;00m\n\u001b[1;32m--> 366\u001b[0m     prob \u001b[38;5;241m=\u001b[39m \u001b[38;5;28;43mself\u001b[39;49m\u001b[38;5;241;43m.\u001b[39;49m\u001b[43mdecision_function\u001b[49m\u001b[43m(\u001b[49m\u001b[43mX\u001b[49m\u001b[43m)\u001b[49m\n\u001b[0;32m    367\u001b[0m     expit(prob, out\u001b[38;5;241m=\u001b[39mprob)\n\u001b[0;32m    368\u001b[0m     \u001b[38;5;28;01mif\u001b[39;00m prob\u001b[38;5;241m.\u001b[39mndim \u001b[38;5;241m==\u001b[39m \u001b[38;5;241m1\u001b[39m:\n",
      "File \u001b[1;32m~\\AppData\\Roaming\\Python\\Python311\\site-packages\\sklearn\\linear_model\\_base.py:332\u001b[0m, in \u001b[0;36mLinearClassifierMixin.decision_function\u001b[1;34m(self, X)\u001b[0m\n\u001b[0;32m    329\u001b[0m check_is_fitted(\u001b[38;5;28mself\u001b[39m)\n\u001b[0;32m    330\u001b[0m xp, _ \u001b[38;5;241m=\u001b[39m get_namespace(X)\n\u001b[1;32m--> 332\u001b[0m X \u001b[38;5;241m=\u001b[39m \u001b[38;5;28;43mself\u001b[39;49m\u001b[38;5;241;43m.\u001b[39;49m\u001b[43m_validate_data\u001b[49m\u001b[43m(\u001b[49m\u001b[43mX\u001b[49m\u001b[43m,\u001b[49m\u001b[43m \u001b[49m\u001b[43maccept_sparse\u001b[49m\u001b[38;5;241;43m=\u001b[39;49m\u001b[38;5;124;43m\"\u001b[39;49m\u001b[38;5;124;43mcsr\u001b[39;49m\u001b[38;5;124;43m\"\u001b[39;49m\u001b[43m,\u001b[49m\u001b[43m \u001b[49m\u001b[43mreset\u001b[49m\u001b[38;5;241;43m=\u001b[39;49m\u001b[38;5;28;43;01mFalse\u001b[39;49;00m\u001b[43m)\u001b[49m\n\u001b[0;32m    333\u001b[0m scores \u001b[38;5;241m=\u001b[39m safe_sparse_dot(X, \u001b[38;5;28mself\u001b[39m\u001b[38;5;241m.\u001b[39mcoef_\u001b[38;5;241m.\u001b[39mT, dense_output\u001b[38;5;241m=\u001b[39m\u001b[38;5;28;01mTrue\u001b[39;00m) \u001b[38;5;241m+\u001b[39m \u001b[38;5;28mself\u001b[39m\u001b[38;5;241m.\u001b[39mintercept_\n\u001b[0;32m    334\u001b[0m \u001b[38;5;28;01mreturn\u001b[39;00m xp\u001b[38;5;241m.\u001b[39mreshape(scores, (\u001b[38;5;241m-\u001b[39m\u001b[38;5;241m1\u001b[39m,)) \u001b[38;5;28;01mif\u001b[39;00m scores\u001b[38;5;241m.\u001b[39mshape[\u001b[38;5;241m1\u001b[39m] \u001b[38;5;241m==\u001b[39m \u001b[38;5;241m1\u001b[39m \u001b[38;5;28;01melse\u001b[39;00m scores\n",
      "File \u001b[1;32m~\\AppData\\Roaming\\Python\\Python311\\site-packages\\sklearn\\base.py:608\u001b[0m, in \u001b[0;36mBaseEstimator._validate_data\u001b[1;34m(self, X, y, reset, validate_separately, cast_to_ndarray, **check_params)\u001b[0m\n\u001b[0;32m    537\u001b[0m \u001b[38;5;28;01mdef\u001b[39;00m \u001b[38;5;21m_validate_data\u001b[39m(\n\u001b[0;32m    538\u001b[0m     \u001b[38;5;28mself\u001b[39m,\n\u001b[0;32m    539\u001b[0m     X\u001b[38;5;241m=\u001b[39m\u001b[38;5;124m\"\u001b[39m\u001b[38;5;124mno_validation\u001b[39m\u001b[38;5;124m\"\u001b[39m,\n\u001b[1;32m   (...)\u001b[0m\n\u001b[0;32m    544\u001b[0m     \u001b[38;5;241m*\u001b[39m\u001b[38;5;241m*\u001b[39mcheck_params,\n\u001b[0;32m    545\u001b[0m ):\n\u001b[0;32m    546\u001b[0m \u001b[38;5;250m    \u001b[39m\u001b[38;5;124;03m\"\"\"Validate input data and set or check the `n_features_in_` attribute.\u001b[39;00m\n\u001b[0;32m    547\u001b[0m \n\u001b[0;32m    548\u001b[0m \u001b[38;5;124;03m    Parameters\u001b[39;00m\n\u001b[1;32m   (...)\u001b[0m\n\u001b[0;32m    606\u001b[0m \u001b[38;5;124;03m        validated.\u001b[39;00m\n\u001b[0;32m    607\u001b[0m \u001b[38;5;124;03m    \"\"\"\u001b[39;00m\n\u001b[1;32m--> 608\u001b[0m     \u001b[38;5;28;43mself\u001b[39;49m\u001b[38;5;241;43m.\u001b[39;49m\u001b[43m_check_feature_names\u001b[49m\u001b[43m(\u001b[49m\u001b[43mX\u001b[49m\u001b[43m,\u001b[49m\u001b[43m \u001b[49m\u001b[43mreset\u001b[49m\u001b[38;5;241;43m=\u001b[39;49m\u001b[43mreset\u001b[49m\u001b[43m)\u001b[49m\n\u001b[0;32m    610\u001b[0m     \u001b[38;5;28;01mif\u001b[39;00m y \u001b[38;5;129;01mis\u001b[39;00m \u001b[38;5;28;01mNone\u001b[39;00m \u001b[38;5;129;01mand\u001b[39;00m \u001b[38;5;28mself\u001b[39m\u001b[38;5;241m.\u001b[39m_get_tags()[\u001b[38;5;124m\"\u001b[39m\u001b[38;5;124mrequires_y\u001b[39m\u001b[38;5;124m\"\u001b[39m]:\n\u001b[0;32m    611\u001b[0m         \u001b[38;5;28;01mraise\u001b[39;00m \u001b[38;5;167;01mValueError\u001b[39;00m(\n\u001b[0;32m    612\u001b[0m             \u001b[38;5;124mf\u001b[39m\u001b[38;5;124m\"\u001b[39m\u001b[38;5;124mThis \u001b[39m\u001b[38;5;132;01m{\u001b[39;00m\u001b[38;5;28mself\u001b[39m\u001b[38;5;241m.\u001b[39m\u001b[38;5;18m__class__\u001b[39m\u001b[38;5;241m.\u001b[39m\u001b[38;5;18m__name__\u001b[39m\u001b[38;5;132;01m}\u001b[39;00m\u001b[38;5;124m estimator \u001b[39m\u001b[38;5;124m\"\u001b[39m\n\u001b[0;32m    613\u001b[0m             \u001b[38;5;124m\"\u001b[39m\u001b[38;5;124mrequires y to be passed, but the target y is None.\u001b[39m\u001b[38;5;124m\"\u001b[39m\n\u001b[0;32m    614\u001b[0m         )\n",
      "File \u001b[1;32m~\\AppData\\Roaming\\Python\\Python311\\site-packages\\sklearn\\base.py:535\u001b[0m, in \u001b[0;36mBaseEstimator._check_feature_names\u001b[1;34m(self, X, reset)\u001b[0m\n\u001b[0;32m    530\u001b[0m \u001b[38;5;28;01mif\u001b[39;00m \u001b[38;5;129;01mnot\u001b[39;00m missing_names \u001b[38;5;129;01mand\u001b[39;00m \u001b[38;5;129;01mnot\u001b[39;00m unexpected_names:\n\u001b[0;32m    531\u001b[0m     message \u001b[38;5;241m+\u001b[39m\u001b[38;5;241m=\u001b[39m (\n\u001b[0;32m    532\u001b[0m         \u001b[38;5;124m\"\u001b[39m\u001b[38;5;124mFeature names must be in the same order as they were in fit.\u001b[39m\u001b[38;5;130;01m\\n\u001b[39;00m\u001b[38;5;124m\"\u001b[39m\n\u001b[0;32m    533\u001b[0m     )\n\u001b[1;32m--> 535\u001b[0m \u001b[38;5;28;01mraise\u001b[39;00m \u001b[38;5;167;01mValueError\u001b[39;00m(message)\n",
      "\u001b[1;31mValueError\u001b[0m: The feature names should match those that were passed during fit.\nFeature names unseen at fit time:\n- shot_made_flag\n"
     ]
    }
   ],
   "source": [
    "dataset_dev = pd.read_parquet('../../Data/Processed/base_test.parquet', engine='pyarrow')\n",
    "dataset_prod = pd.read_parquet('../../Data/Processed/base_train.parquet', engine='pyarrow')\n",
    "\n",
    "model_name = 'lr'\n",
    "probability_threshold = 0.5\n",
    "cross_validation = True\n",
    "fold_strategy = 'stratifiedkfold',\n",
    "fold = 10\n",
    "\n",
    "# train/test\n",
    "s = pc.setup(data = dataset_dev, \n",
    "             target = kobe_target_col,\n",
    "             train_size=0.7,\n",
    "             fold_strategy = 'stratifiedkfold',\n",
    "             fold = fold,\n",
    "             log_experiment = True, \n",
    "             experiment_name = experiment_name, \n",
    "             log_plots = True\n",
    "            )\n",
    "bestmodel = pc.create_model(model_name,\n",
    "                            cross_validation = cross_validation, \n",
    "                            probability_threshold=probability_threshold)\n",
    "\n",
    "# Log do run, e nao do modelo respectivo\n",
    "classification_plots = [ 'auc','pr','confusion_matrix',\n",
    "#                          'error', 'class_report', \n",
    "                        'threshold',\n",
    "                         'learning',\n",
    "                        # 'vc',\n",
    "                        # 'feature',\n",
    "                       ]\n",
    "for plot_type in classification_plots:\n",
    "    print('=> Aplicando plot ', plot_type)\n",
    "    try:\n",
    "        artifact = pc.plot_model(bestmodel, plot=plot_type, save=True)\n",
    "        mlflow.log_artifact('../mlruns', artifact)\n",
    "    except:\n",
    "        print('=> Nao possivel plotar: ', plot_type )\n",
    "        continue\n",
    "\n",
    "pc.save_model(bestmodel, f'./{registered_model_name}') \n",
    "# Carrega novamente o pipeline + bestmodel\n",
    "model_pipe = pc.load_model(f'./{registered_model_name}')\n",
    "\n",
    "log_loss_dev = log_loss(dataset_dev[kobe_target_col], model_pipe.predict(dataset_dev))\n",
    "f1_dev = f1_score(dataset_dev[kobe_target_col], model_pipe.predict(dataset_dev))\n",
    "\n",
    "print('Log Loss: ', log_loss_dev)\n",
    "print('F1: ', f1_dev)\n",
    "# mlflow.log_metrics({\n",
    "#     'log_loss': log_loss(Y[kobe_target_col], Y['Label']),\n",
    "#     'f1': f1_score(Y[kobe_target_col], Y['Label'])\n",
    "# })\n",
    "\n",
    "mlflow.end_run()"
   ]
  },
  {
   "cell_type": "code",
   "execution_count": 15,
   "metadata": {},
   "outputs": [
    {
     "data": {
      "text/html": [
       "<style type=\"text/css\">\n",
       "</style>\n",
       "<table id=\"T_c6292\">\n",
       "  <thead>\n",
       "    <tr>\n",
       "      <th class=\"blank level0\" >&nbsp;</th>\n",
       "      <th id=\"T_c6292_level0_col0\" class=\"col_heading level0 col0\" >Model</th>\n",
       "      <th id=\"T_c6292_level0_col1\" class=\"col_heading level0 col1\" >Accuracy</th>\n",
       "      <th id=\"T_c6292_level0_col2\" class=\"col_heading level0 col2\" >AUC</th>\n",
       "      <th id=\"T_c6292_level0_col3\" class=\"col_heading level0 col3\" >Recall</th>\n",
       "      <th id=\"T_c6292_level0_col4\" class=\"col_heading level0 col4\" >Prec.</th>\n",
       "      <th id=\"T_c6292_level0_col5\" class=\"col_heading level0 col5\" >F1</th>\n",
       "      <th id=\"T_c6292_level0_col6\" class=\"col_heading level0 col6\" >Kappa</th>\n",
       "      <th id=\"T_c6292_level0_col7\" class=\"col_heading level0 col7\" >MCC</th>\n",
       "    </tr>\n",
       "  </thead>\n",
       "  <tbody>\n",
       "    <tr>\n",
       "      <th id=\"T_c6292_level0_row0\" class=\"row_heading level0 row0\" >0</th>\n",
       "      <td id=\"T_c6292_row0_col0\" class=\"data row0 col0\" >Logistic Regression</td>\n",
       "      <td id=\"T_c6292_row0_col1\" class=\"data row0 col1\" >0.6105</td>\n",
       "      <td id=\"T_c6292_row0_col2\" class=\"data row0 col2\" >0.6258</td>\n",
       "      <td id=\"T_c6292_row0_col3\" class=\"data row0 col3\" >0.4428</td>\n",
       "      <td id=\"T_c6292_row0_col4\" class=\"data row0 col4\" >0.5862</td>\n",
       "      <td id=\"T_c6292_row0_col5\" class=\"data row0 col5\" >0.5045</td>\n",
       "      <td id=\"T_c6292_row0_col6\" class=\"data row0 col6\" >0.1938</td>\n",
       "      <td id=\"T_c6292_row0_col7\" class=\"data row0 col7\" >0.1990</td>\n",
       "    </tr>\n",
       "  </tbody>\n",
       "</table>\n"
      ],
      "text/plain": [
       "<pandas.io.formats.style.Styler at 0x1445f3b6110>"
      ]
     },
     "metadata": {},
     "output_type": "display_data"
    },
    {
     "name": "stdout",
     "output_type": "stream",
     "text": [
      "=> Aceito o modelo com precisão 0.5862068965517241 (min: 0.4)\n"
     ]
    },
    {
     "name": "stderr",
     "output_type": "stream",
     "text": [
      "Successfully registered model 'modelo_kobe_lr'.\n",
      "Created version '1' of model 'modelo_kobe_lr'.\n"
     ]
    }
   ],
   "source": [
    "with mlflow.start_run(experiment_id=experiment_id, run_name = 'AprovacaoModelo'):\n",
    "    pred_holdout = pc.predict_model(bestmodel, raw_score=True)\n",
    "    pred_holdout.drop('prediction_score_0', axis=1, inplace=True)\n",
    "    pred_holdout.rename({'prediction_score_1': 'prediction_score'}, axis=1, inplace=True)\n",
    "    pr = metrics.precision_score(pred_holdout[kobe_target_col], pred_holdout['prediction_label'])\n",
    "    if pr > min_precision:\n",
    "        print(f'=> Aceito o modelo com precisão {pr} (min: {min_precision})')\n",
    "        pred_holdout.to_parquet('../../Data/Processed/modelo_kobe_teste.parquet')\n",
    "        # Assinatura do Modelo Inferida pelo MLFlow\n",
    "        model_features = list(dataset_dev.drop(kobe_target_col, axis=1).columns)\n",
    "        inf_signature = infer_signature(dataset_dev[model_features], \n",
    "                                        model_pipe.predict(dataset_dev.drop(kobe_target_col, axis=1)))\n",
    "        # Exemplo de entrada para o MLmodel\n",
    "        input_example = {x: dataset_dev[x].values[:nexamples] for x in model_features}\n",
    "        # Log do pipeline de modelagem do sklearn e registrar como uma nova versao\n",
    "        mlflow.sklearn.log_model(\n",
    "            sk_model=model_pipe,\n",
    "            artifact_path=\"sklearn-model\",\n",
    "            registered_model_name=registered_model_name,\n",
    "            signature = inf_signature,\n",
    "            input_example = input_example\n",
    "        )\n",
    "        # Criacao do cliente do servico MLFlow e atualizacao versao modelo\n",
    "        client = MlflowClient()\n",
    "        model_version = client.get_latest_versions(registered_model_name)[-1].version\n",
    "        # Registrar o modelo como staging\n",
    "        client.set_registered_model_alias(\n",
    "            name    = registered_model_name, \n",
    "            alias   = \"staging\", \n",
    "            version = model_version\n",
    "        )\n",
    "    else:\n",
    "        print(f'=> Rejeitado o modelo com precisão {pr} (min: {min_precision})')\n",
    "\n",
    "    # LOG DE PARAMETROS DO MODELO\n",
    "    mlflow.log_param(\"precisao_minima\", min_precision)\n",
    "\n",
    "    # LOG DE METRICAS GLOBAIS\n",
    "    mlflow.log_metric(\"precisao\", pr)\n",
    "    mlflow.log_metric(\"precisao\", pr)\n",
    "\n",
    "mlflow.end_run()"
   ]
  },
  {
   "cell_type": "code",
   "execution_count": null,
   "metadata": {},
   "outputs": [],
   "source": []
  }
 ],
 "metadata": {
  "kernelspec": {
   "display_name": "Python 3 (ipykernel)",
   "language": "python",
   "name": "python3"
  },
  "language_info": {
   "codemirror_mode": {
    "name": "ipython",
    "version": 3
   },
   "file_extension": ".py",
   "mimetype": "text/x-python",
   "name": "python",
   "nbconvert_exporter": "python",
   "pygments_lexer": "ipython3",
   "version": "3.11.8"
  }
 },
 "nbformat": 4,
 "nbformat_minor": 4
}
